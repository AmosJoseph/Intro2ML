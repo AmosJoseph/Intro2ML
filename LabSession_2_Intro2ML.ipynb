{
 "cells": [
  {
   "cell_type": "markdown",
   "metadata": {
    "slideshow": {
     "slide_type": "slide"
    }
   },
   "source": [
    "# WS2332 - Project 7 - Lecture 3\n",
    "Miguel Bessa\n",
    "<div>\n",
    "<img src=docs/tudelft_logo.jpg width=300px></div>"
   ]
  },
  {
   "cell_type": "markdown",
   "metadata": {
    "slideshow": {
     "slide_type": "-"
    }
   },
   "source": [
    "**What:** Lab Session 2 of course WS2332 (Project 7): Introduction to Machine Learning\n",
    "\n",
    "* Today's lecture **continues** the topic of **regression via supervised learning in 1D**\n",
    "\n",
    "**How:** Jointly workout this notebook\n",
    "* GitHub: https://github.com/mabessa/Intro2ML\n",
    "    1. You can do this locally in your computer (but you have to have the Python packages installed):\n",
    "        * clone the repository to your computer: git clone https://github.com/mabessa/Intro2ML\n",
    "        * load jupyter notebook (it will open in your internet browser): jupyter notebook\n",
    "        * search for this notebook in your computer and open it\n",
    "    2. Or you can use Google's Colab (no installation required, but times out if idle):\n",
    "        * go to https://colab.research.google.com\n",
    "        * login\n",
    "        * File > Open notebook\n",
    "        * click on Github (no need to login or authorize anything)\n",
    "        * paste the git link: https://github.com/mabessa/Intro2ML\n",
    "        * click search and then click on the notebook.\n"
   ]
  },
  {
   "cell_type": "markdown",
   "metadata": {
    "slideshow": {
     "slide_type": "-"
    }
   },
   "source": [
    "This simple tutorial is still based on a script I created for this article: https://imechanica.org/node/23957\n",
    "\n",
    "It follows from some examples provided by the scikit-learn user guide, which seem to have originated from Mathieu Blondel, Jake Vanderplas, Vincent Dubourg, and Jan Hendrik Metzen.\n",
    "\n",
    "License: BSD 3 clause"
   ]
  },
  {
   "cell_type": "code",
   "execution_count": 1,
   "metadata": {
    "slideshow": {
     "slide_type": "-"
    }
   },
   "outputs": [],
   "source": [
    "import numpy as np\n",
    "import matplotlib.pyplot as plt\n",
    "from sklearn.model_selection import train_test_split\n",
    "\n",
    "# Function to \"learn\"\n",
    "def f(x):\n",
    "    return x * np.sin(x)\n",
    "    #return np.sin(x)*np.cos(x)**2.0\n",
    "\n",
    "n_data = 50 # number of points in our dataset\n",
    "x_data = np.linspace(0, 10, n_data) # uniformly spaced points\n",
    "y_data = f(x_data) # function values at x_data\n",
    "\n",
    "X_data = np.reshape(x_data,(-1,1)) # a 2D array that scikit-learn likes\n",
    "\n",
    "seed = 1987 # set a random seed so that everyone gets the same result\n",
    "np.random.seed(seed)\n",
    "\n",
    "# Let's split into 10% training points and the rest for testing:\n",
    "X_train, X_test, y_train, y_test = train_test_split(X_data,\n",
    "                                    y_data, test_size=0.90,\n",
    "                                    random_state=seed)\n",
    "\n",
    "x_train = X_train.ravel() # just for plotting later\n",
    "x_test = X_test.ravel() # just for plotting later"
   ]
  },
  {
   "cell_type": "markdown",
   "metadata": {
    "slideshow": {
     "slide_type": "-"
    }
   },
   "source": [
    "# Outline for today\n",
    "\n",
    "1. Introduction to Gaussian Processes\n",
    "2. Using Scikit-learn for Gaussian Process Regression (noiseless and noisy datasets)\n",
    "3. Introduction to Artificial Neural Networks\n",
    "4. Using Keras for regression with Artificial Neural Networks (noiseless and noisy datasets)"
   ]
  },
  {
   "cell_type": "markdown",
   "metadata": {
    "slideshow": {
     "slide_type": "-"
    }
   },
   "source": [
    "# 1. Introduction to Gaussian Processes\n",
    "\n",
    "### Recommended literature:\n",
    "\n",
    "Gaussian Processes are a Bayesian machine learning method that is easy to train and performs very well for small datasets.\n",
    "\n",
    "In this class, we will follow a beautiful introductory article written by Gortler et al.:\n",
    "\n",
    "* Görtler, J., Kehlbeck, R., & Deussen, O. (2019). A Visual Exploration of Gaussian Processes. Distill, 4(4), e17.\n",
    "\n",
    "If you want to know more details about the method:\n",
    "\n",
    "* Rasmussen, C. E., & Williams, C. (2006). Gaussian processes for machine learning, ser. Adaptive computation and machine learning. Cambridge, MA, USA: MIT Press, 38, 715-719.\n",
    "\n",
    "And if you are curious about the role of kernels and how to choose them (kernel engineering), I recommend the following PhD thesis:\n",
    "\n",
    "* Duvenaud, D. (2014). Automatic model construction with Gaussian processes (Doctoral dissertation, University of Cambridge)."
   ]
  },
  {
   "cell_type": "markdown",
   "metadata": {},
   "source": [
    "### Key concepts behind Gaussian Processes\n",
    "\n",
    "Let's have a quick introduction to the topic by considering the problem of regression of one-dimensional functions (input $X$ and output $Y$). We will follow Görtler et al. (2019) but with a different notation: https://distill.pub/2019/visual-exploration-gaussian-processes\n",
    "\n",
    "* In Gaussian Processes **each** OUTPUT value $Y_i$ in the training data is treated as a random variable that follows a Gaussian distribution:\n",
    "\n",
    "    $\\mathbf{Y} = \\begin{bmatrix}Y_1 \\\\\n",
    "                    Y_2 \\\\\n",
    "                    \\vdots\\\\\n",
    "                    Y_n\n",
    "                    \\end{bmatrix} \\sim \\mathcal{N}(\\boldsymbol{\\mu} , \\boldsymbol{\\Sigma})$\n",
    "\n",
    "    and where the joint distribution of all the output values $\\mathbf{Y}$ is also Gaussian (a multivariate Gaussian) defined by a mean vector $\\boldsymbol{\\mu}$ and a covariance matrix $\\boldsymbol{\\Sigma}$. The mean is usually assumed to be zero.\n",
    "\n",
    "\n",
    "* Before considering how to calculate $\\boldsymbol{\\Sigma}$, just look at **Figure 1** of the article that is showing a two-dimensional Gaussian centered around the means $(\\mu_1,\\,\\mu_2)$ and whose shape is controlled by the covariance matrix $\\boldsymbol{\\Sigma}$. Note that if we change the covariance matrix $\\boldsymbol{\\Sigma}$, the multivariate Gaussian distribution also changes... Let's play with it a bit: https://distill.pub/2019/visual-exploration-gaussian-processes/#Multivariate\n",
    "\n",
    "\n",
    "* Formally, the expression for the covariance matrix depends on the \"covariance function\" or \"kernel\" $k$ that is calculated for **each** pair of INPUT points $X_i$ and $X_j$:\n",
    "\n",
    "    $\\Sigma_{ij} = \\text{Cov}(Y_i,Y_j) = k(X_i,X_j)+\\alpha_i^2 \\delta_{ij}  \\quad \\Rightarrow \\quad \\boldsymbol{\\Sigma} = \\mathbf{K} + \\mathbf{R} $\n",
    "\n",
    "    where the kernel $k(X_i,X_j)$ can be many different kinds of functions (with some special properties) and $\\alpha_i^2$ is the noise level of $Y_i$.\n",
    "\n",
    "\n",
    "* An example of a kernel function is the RBF: $k(X_i,X_j) = {\\color{red}\\eta}^2\\exp{\\left(-\\frac{||X_i-X_j||^2}{2{\\color{red}\\lambda}^2}\\right)}$\n",
    "\n",
    "\n",
    "* Every kernel function has a set of unknown parameters (in red) that are called **hyperparameters**. The RBF has 2 hyperparameters. You can visualize different kernel functions in this figure: https://distill.pub/2019/visual-exploration-gaussian-processes/#MultipleKernels\n",
    "\n",
    "\n",
    "* In the Gaussian Process method, we start by **assuming** a kernel function with an **initial guess** for the values of the hyperparameters. This defines our **prior** information in conjunction with the assumption that the variables follow a multivariate Gaussian distribution:\n",
    "\n",
    "    $\\begin{bmatrix}\\mathbf{Y}\\\\\n",
    "                    Y^*\n",
    "                    \\end{bmatrix} \\sim \\mathcal{N}\\left(\\mathbf{0} , \\, \\begin{bmatrix}\\mathbf{K}+\\mathbf{R} & \\mathbf{k}_*\\\\\n",
    "                    \\mathbf{k}_*^T & k(X^*,X^*)\n",
    "                    \\end{bmatrix}\\right)$\n",
    "\n",
    "\n",
    "* Multivariate Gaussian distributions have very interesting properties and it turns out that based on the above assumptions a Gaussian Process predicts both the **mean** and the **variance** of the output point $Y^*$ by the following matrix operations:\n",
    "\n",
    "    $\\text{mean}[Y^*]=\\mathbf{k}_*^T\\left(\\mathbf{K}+\\mathbf{R}\\right)^{-1}\\mathbf{Y}$\n",
    "\n",
    "    $\\text{Cov}[Y^*]=k(X^*,X^*)-\\mathbf{k}_*^T\\left(\\mathbf{K}+\\mathbf{R}\\right)^{-1}\\mathbf{k}_*$\n",
    "\n",
    "\n",
    "* The <span style=\"color:red\">**key concept**</span> is that the prediction of the mean and variance of the new point $Y^*$ depends on the values of the hyperparameters of the kernel function (which are **UNKNOWN**).\n",
    "\n",
    "\n",
    "* However, despite the fact that we don't know the hyperparameters of the kernel function, they can be obtained by **Bayesian inference**, i.e. using Bayes rule to find the **posterior** information. This involves doing Marginalization and Conditioning. We will not cover how to do this here. However, we can at least visualize what it means to Marginalize $Y^*$ and to condition $Y$ in this figure: https://distill.pub/2019/visual-exploration-gaussian-processes/#MarginalizationConditioning\n",
    "\n",
    "   * Marginalizing for $Y^*$ means to integrate along the $Y$ axis\n",
    "    \n",
    "   * Conditioning $Y$ means to cut trough the original distribution for a particular value of $Y$"
   ]
  },
  {
   "cell_type": "markdown",
   "metadata": {},
   "source": [
    "### Prior Distribution\n",
    "\n",
    "The first contact with the concept of prior distribution is a bit strange.\n",
    "\n",
    "* Prior distribution is just the multivariate Gaussian distribution obtained for a particular choice of kernel function **before** even considering ANY training data.\n",
    "\n",
    "* Conceptually, it represents the distribution of functions that will be used in the regression process to obtain the **posterior** distribution\n",
    "\n",
    "* There is a beautiful interactive figure about this here: https://distill.pub/2019/visual-exploration-gaussian-processes/#Prior\n",
    "\n",
    "\n",
    "### Posterior distribution\n",
    "\n",
    "* This is the distribution of functions that we obtain by using the training data to **constrain** the set of functions that pass through the training points\n",
    "\n",
    "* Here's another interactive figure: https://distill.pub/2019/visual-exploration-gaussian-processes/#Posterior\n",
    "\n",
    "\n",
    "### A short word about kernel \"engineering\"\n",
    "\n",
    "As we can see, the choice of kernel affects the type of functions used in the fitting process. For example, the RBF kernel is infinitely smooth, so the approximation obtained from a Gaussian Process using RBF will be infinitely differentiable. This may not be adequate for specific applications...\n",
    "\n",
    "In addition, we can also combine different kernels by multiplying or adding different basic kernels (RBF with Linear kernel, for example).\n",
    "\n",
    "* As mentioned in the beginning of this notebook, Duvenaud (2014) has elaborated on this topic significantly in his PhD thesis. He also has a website with a short \"cookbook\" for kernel engineering: https://www.cs.toronto.edu/~duvenaud/cookbook/\n",
    "\n",
    "In your assignment, you will explore the influence that the choice of kernel has in the quality of the approximations."
   ]
  },
  {
   "cell_type": "markdown",
   "metadata": {},
   "source": [
    "# Using Scikit-learn for Gaussian Process Regression (noiseless and noisy datasets)"
   ]
  },
  {
   "cell_type": "markdown",
   "metadata": {},
   "source": [
    "### GPs with noiseless dataset"
   ]
  },
  {
   "cell_type": "code",
   "execution_count": 2,
   "metadata": {
    "slideshow": {
     "slide_type": "-"
    }
   },
   "outputs": [
    {
     "data": {
      "text/plain": [
       "<matplotlib.legend.Legend at 0x7f79830a86d0>"
      ]
     },
     "execution_count": 2,
     "metadata": {},
     "output_type": "execute_result"
    },
    {
     "data": {
      "image/png": "[encoded data removed]",
      "text/plain": [
       "<Figure size 432x288 with 1 Axes>"
      ]
     },
     "metadata": {
      "needs_background": "light"
     },
     "output_type": "display_data"
    }
   ],
   "source": [
    "from sklearn.gaussian_process import GaussianProcessRegressor\n",
    "from sklearn.gaussian_process.kernels import RBF, Matern, ExpSineSquared, ConstantKernel\n",
    "\n",
    "# Define the kernel function\n",
    "kernel = ConstantKernel(1.0, (1e-3, 1e3)) * RBF(10, (1e-2, 1e2)) # This is the standard RBF kernel\n",
    "kernel = 1.0 * RBF(10, (1e-2, 1e2)) # Same kernel as above\n",
    "                                    #(scikit-learn assumes constant\n",
    "                                    # variance if you just write RBF\n",
    "                                    # without the constant kernel or\n",
    "                                    # without multiplying by 1.0)\n",
    "\n",
    "# Other examples of kernels:\n",
    "#kernel = ExpSineSquared(length_scale=3.0, periodicity=3.14,\n",
    "#                       length_scale_bounds=(0.1, 10.0),\n",
    "#                       periodicity_bounds=(0.1, 10)) * RBF(3.0, (1e-2, 1e2))\n",
    "#kernel = Matern(length_scale=1.0, length_scale_bounds=(1e-2, 1e2),nu=1.5)\n",
    "                \n",
    "gp_model = GaussianProcessRegressor(kernel=kernel, alpha=1e-10, n_restarts_optimizer=10) # using a small alpha\n",
    "\n",
    "# Fit to data using Maximum Likelihood Estimation of the parameters\n",
    "gp_model.fit(X_train, y_train)\n",
    "\n",
    "# Make the prediction on the entire dataset\n",
    "y_pred, sigma = gp_model.predict(X_data, return_std=True) # also output the uncertainty (standard deviation)\n",
    "\n",
    "# Plot the function, the prediction and the 95% confidence interval based on the MSE\n",
    "fig1, ax1 = plt.subplots() # This opens a new figure\n",
    "\n",
    "ax1.plot(x_data, y_data, 'r:', label=u'ground truth: $f(x) = x\\,\\sin(x)$') # function to learn\n",
    "\n",
    "ax1.plot(x_train, y_train, 'ro', markersize=6, label=\"training points\") # noiseless data\n",
    "\n",
    "ax1.plot(x_test, y_test, 'kx', markersize=6, label=\"testing points\") # Plot test points\n",
    "\n",
    "ax1.plot(x_data, y_pred, 'b-', label=\"GPR prediction\")\n",
    "ax1.fill(np.concatenate([x_data, x_data[::-1]]),\n",
    "         np.concatenate([y_pred - 1.9600 * sigma,\n",
    "                        (y_pred + 1.9600 * sigma)[::-1]]),\n",
    "         alpha=.5, fc='b', ec='None', label='95% confidence interval')\n",
    "ax1.set_xlabel('$x$')\n",
    "ax1.set_ylabel('$f(x)$')\n",
    "ax1.set_title(\"Posterior kernel: %s\"\n",
    "              % gp_model.kernel_, fontsize=12) # Show in the title the value of the hyperparameters\n",
    "ax1.legend(loc='upper left')"
   ]
  },
  {
   "cell_type": "markdown",
   "metadata": {},
   "source": [
    "### Exercise 1\n",
    "\n",
    "Fit a polynomial of degree 4 (like we did last class) and compute the error metrics for that model as well as the above mentioned Gaussian process."
   ]
  },
  {
   "cell_type": "code",
   "execution_count": 10,
   "metadata": {},
   "outputs": [],
   "source": [
    "# Exercise 1.\n",
    "\n",
    "# Write here.\n",
    "\n",
    "# until here."
   ]
  },
  {
   "cell_type": "markdown",
   "metadata": {},
   "source": [
    "Gaussian Process Regression approximates the function much better...\n",
    "\n",
    "* However, the **choice of kernel** used in GPR affects the quality of the prediction."
   ]
  },
  {
   "cell_type": "markdown",
   "metadata": {},
   "source": [
    "### GPs with noisy dataset\n",
    "\n",
    "Let's create the noisy dataset again that we created in Lab Session 1:"
   ]
  },
  {
   "cell_type": "code",
   "execution_count": 4,
   "metadata": {},
   "outputs": [],
   "source": [
    "# Now let's also create the noisy dataset:\n",
    "random_std = 0.5 + 1.0 * np.random.random(y_data.shape)\n",
    "noise = np.random.normal(0, random_std) \n",
    "y_noisy_data = y_data + noise # Perturb every y_data point with Gaussian noise\n",
    "\n",
    "# Pair up points with their associated noise level (because of train_test_split):\n",
    "Y_noisy_data = np.column_stack((y_noisy_data,noise))\n",
    "\n",
    "# Split into 10% training points and the rest for testing:\n",
    "X_train, X_test, Y_noisy_train, Y_noisy_test = train_test_split(X_data,\n",
    "                                    Y_noisy_data, test_size=0.90,\n",
    "                                    random_state=seed) # \"noisy_train\" is a great name for a variable, hein?\n",
    "x_train = X_train[:]\n",
    "x_test = X_test[:]\n",
    "\n",
    "\n",
    "y_noisy_train = Y_noisy_train[:,0]\n",
    "noise_train = Y_noisy_train[:,1]\n",
    "y_noisy_test = Y_noisy_test[:,0]\n",
    "noise_test = Y_noisy_test[:,1]"
   ]
  },
  {
   "cell_type": "code",
   "execution_count": 5,
   "metadata": {},
   "outputs": [
    {
     "data": {
      "text/plain": [
       "<matplotlib.legend.Legend at 0x7f7982cf8b50>"
      ]
     },
     "execution_count": 5,
     "metadata": {},
     "output_type": "execute_result"
    },
    {
     "data": {
      "image/png": "[encoded data removed]",
      "text/plain": [
       "<Figure size 432x288 with 1 Axes>"
      ]
     },
     "metadata": {
      "needs_background": "light"
     },
     "output_type": "display_data"
    }
   ],
   "source": [
    "from sklearn.gaussian_process import GaussianProcessRegressor\n",
    "from sklearn.gaussian_process.kernels import RBF, Matern, ExpSineSquared, ConstantKernel\n",
    "\n",
    "# Instanciate a Gaussian Process model\n",
    "kernel = ConstantKernel(1.0, (1e-3, 1e3)) * RBF(10, (1e-2, 1e2))\n",
    "\n",
    "# Fitting for noisy data, if we have access to the uncertainty\n",
    "# at the training points is equivalent to include the noise level\n",
    "# at the alpha parameter (as we saw above)\n",
    "gp_model = GaussianProcessRegressor(kernel=kernel, alpha=noise_train**2, n_restarts_optimizer=5) # using a small alpha\n",
    "\n",
    "# Fit to data using Maximum Likelihood Estimation of the parameters\n",
    "gp_model.fit(X_train, y_noisy_train)\n",
    "\n",
    "\n",
    "# Make the prediction on the entire dataset\n",
    "y_pred, sigma = gp_model.predict(X_data, return_std=True) # also output the uncertainty (standard deviation)\n",
    "\n",
    "# Plot the function, the prediction and the 95% confidence interval based on the MSE\n",
    "fig1, ax1 = plt.subplots() # This opens a new figure\n",
    "\n",
    "ax1.plot(x_data, f(x_data), 'r:', label=u'ground truth: $f(x) = x\\,\\sin(x)$') # function to learn\n",
    "\n",
    "plt.errorbar(x_train, y_noisy_train, noise_train, fmt='ro', markersize=6, label=u'training points inc. uncertainty')\n",
    "\n",
    "\n",
    "plt.errorbar(x_test, y_noisy_test, noise_test, fmt='kx', markersize=6, label=u'testing points inc. uncertainty')\n",
    "\n",
    "plt.plot(x_data, y_pred, 'b-', label=\"GPR prediction\")\n",
    "plt.fill(np.concatenate([x_data, x_data[::-1]]),\n",
    "         np.concatenate([y_pred - 1.9600 * sigma,\n",
    "                        (y_pred + 1.9600 * sigma)[::-1]]),\n",
    "         alpha=.5, fc='b', ec='None', label='95% confidence interval')\n",
    "plt.xlabel('$x$')\n",
    "plt.ylabel('$f(x)$')\n",
    "plt.ylim(-20, 20)\n",
    "plt.legend(loc='upper left')"
   ]
  },
  {
   "cell_type": "markdown",
   "metadata": {},
   "source": [
    "### Exercise 2\n",
    "\n",
    "Fit a polynomial of degree 4 (like we did last class) and compute the error metrics for that model as well as the above mentioned Gaussian process."
   ]
  },
  {
   "cell_type": "code",
   "execution_count": 11,
   "metadata": {},
   "outputs": [],
   "source": [
    "# Exercise 2.\n",
    "\n",
    "# Write here\n",
    "\n",
    "# until here."
   ]
  },
  {
   "cell_type": "markdown",
   "metadata": {},
   "source": [
    "Well done...\n",
    "\n",
    "In the Lab Assignment you will be further exploring Gaussian Processes."
   ]
  },
  {
   "cell_type": "markdown",
   "metadata": {},
   "source": [
    "# 3. Introduction to Artificial Neural Networks\n",
    "\n",
    "This introduction is a selection of materials from the course of Andreas Mueller (Lecture 22): https://github.com/amueller/COMS4995-s19"
   ]
  },
  {
   "cell_type": "markdown",
   "metadata": {},
   "source": [
    "## Neural network with one hidden layer"
   ]
  },
  {
   "cell_type": "markdown",
   "metadata": {},
   "source": [
    "<div>\n",
    "<img style=\"float: left\"; src=docs/nn_basic_arch.png width=500px></div>"
   ]
  },
  {
   "cell_type": "markdown",
   "metadata": {},
   "source": [
    "Each circle represents a node (called neurons).\n",
    "\n",
    "Input layer: number of neurons equals number of features of our data\n",
    "\n",
    "Each connection of a hidden layer: $ h(x) = f(W_1x+b_1) $\n",
    "\n",
    "Output layer: $ o(x) = g(W_2h(x) + b_2) $"
   ]
  },
  {
   "cell_type": "markdown",
   "metadata": {},
   "source": [
    "## Neural network with two hidden layers"
   ]
  },
  {
   "cell_type": "markdown",
   "metadata": {},
   "source": [
    "<div>\n",
    "<img style=\"float: left\"; src=docs/nn_manylayers.png width=500px></div>"
   ]
  },
  {
   "cell_type": "markdown",
   "metadata": {},
   "source": [
    "This is called a multilayer perceptron or fully-connected feed-forward neural network.\n",
    "\n",
    "* Neurons in hidden layers usually have the same non-linear function (ReLu is popular), weights are different for every neuron.\n",
    "\n",
    "* Many layers $\\rightarrow$ “deep learning”.\n",
    "\n",
    "* In theory: more hidden layers $rightarrow$ more complex functions and feature representation. But there's more to this story...\n",
    "\n",
    "* For regression each output neuron corresponds to a single output variable and the last layer uses a linear activation function."
   ]
  },
  {
   "cell_type": "markdown",
   "metadata": {},
   "source": [
    "## Examples of nonlinear activation functions"
   ]
  },
  {
   "cell_type": "markdown",
   "metadata": {},
   "source": [
    "<div>\n",
    "<img style=\"float: left\"; src=docs/nonlin_fn.png width=500px></div>"
   ]
  },
  {
   "cell_type": "markdown",
   "metadata": {},
   "source": [
    "* ReLu is the most common choice nowadays (easier optimization)\n",
    "\n",
    "* tanh has small gradients in most places (harder to optimize)"
   ]
  },
  {
   "cell_type": "markdown",
   "metadata": {},
   "source": [
    "## Quick overview about neural networks\n",
    "\n",
    "* Non-linear regression models\n",
    "\n",
    "* Powerful for very large datasets\n",
    "\n",
    "* Non-convex optimization\n",
    "\n",
    "* Notoriously slow to train (state of the art models take days or even weeks to train, often on multiple GPUs)\n",
    "\n",
    "* Important to scale and transform the data properly (preprocessing)\n",
    "\n",
    "* MANY variants (Convolutional nets, Recurrent neural networks, variational autoencoders, generative adversarial networks, deep reinforcement learning, ...)"
   ]
  },
  {
   "cell_type": "markdown",
   "metadata": {},
   "source": [
    "## Training Objective\n",
    "\n",
    "$ h(x) = f(W_1x+b_1) $\n",
    "$ o(x) = g(W_2h(x)+b_2) = g(W_2f(W_1x + b_1) + b_2)$\n",
    "\n",
    "$ \\min_{W_1,W_2,b_1,b_2} \\sum\\limits_{i=1}^N l(y_i,o(x_i)) $\n",
    "\n",
    "$ =\\min_{W_1,W_2,b_1,b_2} \\sum\\limits_{i=1}^N l(y_i,g(W_2f(W_1x+b_1)+b_2)$\n",
    "\n",
    "- $l$ is the MSE (or squared loss function) for regression."
   ]
  },
  {
   "cell_type": "markdown",
   "metadata": {},
   "source": [
    "## Backpropagation\n",
    "\n",
    "* Need $ \\frac{\\partial l(y, o)}{\\partial W_i} $ and $\\frac{\\partial l(y, o)}{\\partial b_i}$\n",
    "\n",
    "\n",
    "* Example for network with one hidden layer where $ \\text{net}(x) := W_1x + b_1 $"
   ]
  },
  {
   "cell_type": "markdown",
   "metadata": {},
   "source": [
    "<div>\n",
    "<img style=\"float: left\"; src=docs/backprop_eqn.png width=400px></div>"
   ]
  },
  {
   "cell_type": "markdown",
   "metadata": {},
   "source": [
    "## Optimizing W, b\n",
    "\n",
    "* Batch\n",
    "\n",
    "    $ W_i \\leftarrow W_i - \\eta\\sum\\limits_{j=1}^N \\frac{\\partial l(x_j,y_j)}{\\partial W_i} $\n",
    "\n",
    "\n",
    "* Online/Stochastic\n",
    "\n",
    "    $ W_i \\leftarrow W_i - \\eta\\frac{\\partial l(x_j,y_j)}{\\partial W_i}$\n",
    "\n",
    "\n",
    "* Minibatch\n",
    "\n",
    "    $ W_i \\leftarrow W_i - \\eta\\sum\\limits_{j=k}^{k+m} \\frac{\\partial l(x_j,y_j)}{\\partial W_i}$\n",
    "    \n",
    "\n",
    "**A nice resource about optimizers** to understand what is learning rate (step size) and momentum: https://distill.pub/2017/momentum/\n",
    "\n",
    "\n",
    "To note:\n",
    "\n",
    "1. Standard gradient descent with constant learning rate (or step size) $\\eta$ is slow because we update a weight matrix $W_i$ using the old $W_i$ and taking a gradient step after summing over the whole training set.\n",
    "\n",
    "    * Using the entire training set for each forward pass through the network means that we need to make predictions for every point (without updating the weights) and then do a backward pass with backpropagation... One forward pass and one backward pass is what we call an epoch. So, if we do this, a single epoch has a lot of matrix multiplications to do a single gradient step.\n",
    "    \n",
    "    \n",
    "2. To speed this up we can do a stochastic approximation, i.e. stochastic gradient descent (or online gradient descent). Here, you pick a sample at random, compute the gradient just considering that sample, and then update the parameter. So you update the weights much more often, but you have a much less stable estimate of the gradient. In practice, we often just iterate through the data instead of picking a sample at random. And as with linear models, this is much faster than doing full batches for large datasets.\n",
    "\n",
    "    * Stochastic grandient descent is less stable (of course!).\n",
    "    \n",
    "    \n",
    "3. A compromise is to consider batch sizes of $k$ samples of the training set (also called mini-batches). For example, we could use 64 points per epoch (one forward and backward pass). In other words: we look at $k=64$ samples, compute the gradients, average them, and update the weights. That allows us to update much more often than looking at the whole dataset, while still having a more stable gradient. This strategy is easy to parallelize in modern CPUs and GPUs and it is very commonly used in practice. The reason why this is faster is basically that doing a matrix-matrix multiplication is faster than doing a bunch of matrix-vector operations.\n",
    "\n",
    "\n",
    "Finally, a short note: we could also be using smarter optimization methods, like second order methods or LBFGS, but these are often not very effective on these large non-convex problems. One, called levenberg-marquardt is actually a possibility, but it's not really used these days."
   ]
  },
  {
   "cell_type": "markdown",
   "metadata": {},
   "source": [
    "# Learning Heuristics\n",
    "\n",
    "* Constant learning rate $\\eta$ not good\n",
    "\n",
    "\n",
    "* Better: adaptive $\\eta$ for each entry of $W_i$ (large $\\eta$ in the beginning and small at the end)\n",
    "\n",
    "\n",
    "* Common approach: adam optimizer\n",
    "\n",
    "\n",
    "* There are many variants of optimizers... Remember: you will often get different solutions depending on how you pick the learning rate because you are solving a (very) non-convex problem. It's nearly impossible to actually find a global optimum. So nearly all of these strategies are heuristics, that have just proven well to work in practice."
   ]
  },
  {
   "cell_type": "markdown",
   "metadata": {},
   "source": [
    "# Complexity Control\n",
    "\n",
    "These are the main ways to control complexity.\n",
    "\n",
    "* Decrease number of parameters\n",
    "\n",
    "\n",
    "* Regularization:\n",
    "\n",
    "    * L2 & L1 regularization (just like what you did [will do] in the Lab Assignment for Regularized Least Squares)\n",
    "    * Dropout: randomly prune neurons from the network\n",
    "\n",
    "\n",
    "* Early Stopping:\n",
    "\n",
    "    * Early stopping means that you compute the loss from a validation set and then you stop when you start to overfit."
   ]
  },
  {
   "cell_type": "code",
   "execution_count": 7,
   "metadata": {},
   "outputs": [
    {
     "name": "stderr",
     "output_type": "stream",
     "text": [
      "Using TensorFlow backend.\n"
     ]
    },
    {
     "name": "stdout",
     "output_type": "stream",
     "text": [
      "Train on 5 samples, validate on 45 samples\n",
      "Epoch 1/2000\n",
      "5/5 [==============================] - 0s 27ms/step - loss: 16.7294 - val_loss: 13.7948\n",
      "Epoch 2/2000\n",
      "5/5 [==============================] - 0s 1ms/step - loss: 16.5268 - val_loss: 13.7575\n",
      "Epoch 3/2000\n",
      "5/5 [==============================] - 0s 1ms/step - loss: 16.3268 - val_loss: 13.7240\n",
      "Epoch 4/2000\n",
      "5/5 [==============================] - 0s 1ms/step - loss: 16.1290 - val_loss: 13.6926\n",
      "Epoch 5/2000\n",
      "5/5 [==============================] - 0s 2ms/step - loss: 15.9330 - val_loss: 13.6687\n",
      "Epoch 6/2000\n",
      "5/5 [==============================] - 0s 1ms/step - loss: 15.7372 - val_loss: 13.6472\n",
      "Epoch 7/2000\n",
      "5/5 [==============================] - 0s 2ms/step - loss: 15.5427 - val_loss: 13.6304\n",
      "Epoch 8/2000\n",
      "5/5 [==============================] - 0s 1ms/step - loss: 15.3500 - val_loss: 13.6144\n",
      "Epoch 9/2000\n",
      "5/5 [==============================] - 0s 1ms/step - loss: 15.1582 - val_loss: 13.6012\n",
      "Epoch 10/2000\n",
      "5/5 [==============================] - 0s 2ms/step - loss: 14.9682 - val_loss: 13.5876\n",
      "Epoch 11/2000\n",
      "5/5 [==============================] - 0s 2ms/step - loss: 14.7822 - val_loss: 13.5698\n",
      "Epoch 12/2000\n",
      "5/5 [==============================] - 0s 1ms/step - loss: 14.5965 - val_loss: 13.5520\n",
      "Epoch 13/2000\n",
      "5/5 [==============================] - 0s 1ms/step - loss: 14.4104 - val_loss: 13.5351\n",
      "Epoch 14/2000\n",
      "5/5 [==============================] - 0s 1ms/step - loss: 14.2235 - val_loss: 13.5187\n",
      "Epoch 15/2000\n",
      "5/5 [==============================] - 0s 1ms/step - loss: 14.0363 - val_loss: 13.5007\n",
      "Epoch 16/2000\n",
      "5/5 [==============================] - 0s 1ms/step - loss: 13.8490 - val_loss: 13.4818\n",
      "Epoch 17/2000\n",
      "5/5 [==============================] - 0s 1ms/step - loss: 13.6608 - val_loss: 13.4616\n",
      "Epoch 18/2000\n",
      "5/5 [==============================] - 0s 2ms/step - loss: 13.4731 - val_loss: 13.4400\n",
      "Epoch 19/2000\n",
      "5/5 [==============================] - 0s 1ms/step - loss: 13.2840 - val_loss: 13.4178\n",
      "Epoch 20/2000\n",
      "5/5 [==============================] - 0s 1ms/step - loss: 13.0944 - val_loss: 13.3942\n",
      "Epoch 21/2000\n",
      "5/5 [==============================] - 0s 1ms/step - loss: 12.9037 - val_loss: 13.3694\n",
      "Epoch 22/2000\n",
      "5/5 [==============================] - 0s 1ms/step - loss: 12.7111 - val_loss: 13.3429\n",
      "Epoch 23/2000\n",
      "5/5 [==============================] - 0s 1ms/step - loss: 12.5185 - val_loss: 13.3150\n",
      "Epoch 24/2000\n",
      "5/5 [==============================] - 0s 1ms/step - loss: 12.3233 - val_loss: 13.2868\n",
      "Epoch 25/2000\n",
      "5/5 [==============================] - 0s 1ms/step - loss: 12.1271 - val_loss: 13.2575\n",
      "Epoch 26/2000\n",
      "5/5 [==============================] - 0s 1ms/step - loss: 11.9304 - val_loss: 13.2275\n",
      "Epoch 27/2000\n",
      "5/5 [==============================] - 0s 1ms/step - loss: 11.7326 - val_loss: 13.1967\n",
      "Epoch 28/2000\n",
      "5/5 [==============================] - 0s 1ms/step - loss: 11.5339 - val_loss: 13.1652\n",
      "Epoch 29/2000\n",
      "5/5 [==============================] - 0s 1ms/step - loss: 11.3343 - val_loss: 13.1338\n",
      "Epoch 30/2000\n",
      "5/5 [==============================] - 0s 2ms/step - loss: 11.1342 - val_loss: 13.1039\n",
      "Epoch 31/2000\n",
      "5/5 [==============================] - 0s 1ms/step - loss: 10.9336 - val_loss: 13.0758\n",
      "Epoch 32/2000\n",
      "5/5 [==============================] - 0s 1ms/step - loss: 10.7305 - val_loss: 13.0484\n",
      "Epoch 33/2000\n",
      "5/5 [==============================] - 0s 1ms/step - loss: 10.5272 - val_loss: 13.0217\n",
      "Epoch 34/2000\n",
      "5/5 [==============================] - 0s 2ms/step - loss: 10.3233 - val_loss: 12.9958\n",
      "Epoch 35/2000\n",
      "5/5 [==============================] - 0s 1ms/step - loss: 10.1184 - val_loss: 12.9711\n",
      "Epoch 36/2000\n",
      "5/5 [==============================] - 0s 1ms/step - loss: 9.9133 - val_loss: 12.9478\n",
      "Epoch 37/2000\n",
      "5/5 [==============================] - 0s 4ms/step - loss: 9.7076 - val_loss: 12.9260\n",
      "Epoch 38/2000\n",
      "5/5 [==============================] - 0s 3ms/step - loss: 9.5012 - val_loss: 12.9058\n",
      "Epoch 39/2000\n",
      "5/5 [==============================] - 0s 1ms/step - loss: 9.2945 - val_loss: 12.8874\n",
      "Epoch 40/2000\n",
      "5/5 [==============================] - 0s 1ms/step - loss: 9.0875 - val_loss: 12.8710\n",
      "Epoch 41/2000\n",
      "5/5 [==============================] - 0s 1ms/step - loss: 8.8802 - val_loss: 12.8565\n",
      "Epoch 42/2000\n",
      "5/5 [==============================] - 0s 2ms/step - loss: 8.6735 - val_loss: 12.8448\n",
      "Epoch 43/2000\n",
      "5/5 [==============================] - 0s 2ms/step - loss: 8.4670 - val_loss: 12.8350\n",
      "Epoch 44/2000\n",
      "5/5 [==============================] - 0s 2ms/step - loss: 8.2615 - val_loss: 12.8280\n",
      "Epoch 45/2000\n",
      "5/5 [==============================] - 0s 2ms/step - loss: 8.0564 - val_loss: 12.8233\n",
      "Epoch 46/2000\n",
      "5/5 [==============================] - 0s 2ms/step - loss: 7.8528 - val_loss: 12.8207\n",
      "Epoch 47/2000\n",
      "5/5 [==============================] - 0s 1ms/step - loss: 7.6501 - val_loss: 12.8207\n",
      "Epoch 48/2000\n",
      "5/5 [==============================] - 0s 1ms/step - loss: 7.4487 - val_loss: 12.8231\n",
      "Epoch 49/2000\n",
      "5/5 [==============================] - 0s 1ms/step - loss: 7.2492 - val_loss: 12.8280\n",
      "Epoch 50/2000\n",
      "5/5 [==============================] - 0s 2ms/step - loss: 7.0515 - val_loss: 12.8356\n",
      "Epoch 51/2000\n",
      "5/5 [==============================] - 0s 3ms/step - loss: 6.8564 - val_loss: 12.8442\n",
      "Epoch 52/2000\n",
      "5/5 [==============================] - 0s 1ms/step - loss: 6.6629 - val_loss: 12.8533\n",
      "Epoch 53/2000\n",
      "5/5 [==============================] - 0s 1ms/step - loss: 6.4718 - val_loss: 12.8638\n",
      "Epoch 54/2000\n",
      "5/5 [==============================] - 0s 1ms/step - loss: 6.2836 - val_loss: 12.8758\n",
      "Epoch 55/2000\n",
      "5/5 [==============================] - 0s 1ms/step - loss: 6.0997 - val_loss: 12.8912\n",
      "Epoch 56/2000\n",
      "5/5 [==============================] - 0s 1ms/step - loss: 5.9174 - val_loss: 12.9089\n",
      "Epoch 57/2000\n",
      "5/5 [==============================] - 0s 1ms/step - loss: 5.7394 - val_loss: 12.9289\n",
      "Epoch 58/2000\n",
      "5/5 [==============================] - 0s 1ms/step - loss: 5.5648 - val_loss: 12.9519\n",
      "Epoch 59/2000\n",
      "5/5 [==============================] - 0s 1ms/step - loss: 5.3941 - val_loss: 12.9792\n",
      "Epoch 60/2000\n",
      "5/5 [==============================] - 0s 1ms/step - loss: 5.2277 - val_loss: 13.0103\n",
      "Epoch 61/2000\n",
      "5/5 [==============================] - 0s 1ms/step - loss: 5.0667 - val_loss: 13.0454\n",
      "Epoch 62/2000\n",
      "5/5 [==============================] - 0s 1ms/step - loss: 4.9085 - val_loss: 13.0832\n",
      "Epoch 63/2000\n",
      "5/5 [==============================] - 0s 1ms/step - loss: 4.7558 - val_loss: 13.1239\n",
      "Epoch 64/2000\n",
      "5/5 [==============================] - 0s 1ms/step - loss: 4.6076 - val_loss: 13.1683\n",
      "Epoch 65/2000\n",
      "5/5 [==============================] - 0s 1ms/step - loss: 4.4652 - val_loss: 13.2166\n",
      "Epoch 66/2000\n",
      "5/5 [==============================] - 0s 1ms/step - loss: 4.3271 - val_loss: 13.2674\n",
      "Epoch 67/2000\n",
      "5/5 [==============================] - 0s 2ms/step - loss: 4.1950 - val_loss: 13.3203\n",
      "Epoch 68/2000\n",
      "5/5 [==============================] - 0s 1ms/step - loss: 4.0683 - val_loss: 13.3757\n",
      "Epoch 69/2000\n",
      "5/5 [==============================] - 0s 1ms/step - loss: 3.9473 - val_loss: 13.4302\n",
      "Epoch 70/2000\n",
      "5/5 [==============================] - 0s 1ms/step - loss: 3.8315 - val_loss: 13.4863\n",
      "Epoch 71/2000\n",
      "5/5 [==============================] - 0s 1ms/step - loss: 3.7206 - val_loss: 13.5423\n",
      "Epoch 72/2000\n",
      "5/5 [==============================] - 0s 1ms/step - loss: 3.6158 - val_loss: 13.6019\n",
      "Epoch 73/2000\n",
      "5/5 [==============================] - 0s 2ms/step - loss: 3.5166 - val_loss: 13.6634\n",
      "Epoch 74/2000\n",
      "5/5 [==============================] - 0s 2ms/step - loss: 3.4230 - val_loss: 13.7270\n",
      "Epoch 75/2000\n",
      "5/5 [==============================] - 0s 2ms/step - loss: 3.3352 - val_loss: 13.7925\n",
      "Epoch 76/2000\n",
      "5/5 [==============================] - 0s 2ms/step - loss: 3.2525 - val_loss: 13.8604\n",
      "Epoch 77/2000\n",
      "5/5 [==============================] - 0s 1ms/step - loss: 3.1749 - val_loss: 13.9299\n"
     ]
    }
   ],
   "source": [
    "# -----------------------------------------------------------\n",
    "# Neural Networks example\n",
    "# KERAS:\n",
    "from keras.models import Sequential\n",
    "from keras.layers.core import Dense\n",
    "from keras.wrappers.scikit_learn import KerasRegressor\n",
    "from keras.callbacks import EarlyStopping\n",
    "from sklearn.preprocessing import StandardScaler\n",
    "from sklearn.model_selection import GridSearchCV\n",
    "#\n",
    "# Function to create model, required for KerasClassifier when SPECIFYING INPUTS\n",
    "def create_model(input_dimensions=1,neurons1=10,neurons2=10,neurons3=10,neurons4=10,activation='relu',optimizer='adam'):\n",
    "    # create model\n",
    "    model = Sequential()\n",
    "    model.add(Dense(neurons1, input_dim=input_dimensions, activation=activation)) # first hidden layer\n",
    "    model.add(Dense(neurons2, activation=activation)) # second hidden layer\n",
    "#        model.add(Dense(neurons3, activation=activation)) # thrid hidden layer\n",
    "#        model.add(Dense(neurons4, activation=activation)) # fourth hidden layer, etc.\n",
    "    model.add(Dense(1))\n",
    "    model.compile(loss='mse', optimizer=optimizer)\n",
    "    return model\n",
    "# -----------------------------------------------------------------------------\n",
    "#\n",
    "\n",
    "scaler = StandardScaler().fit(X_train)\n",
    "#\n",
    "X_train_scaled=scaler.transform(X_train)\n",
    "X_test_scaled=scaler.transform(X_test)\n",
    "X_data_scaled=scaler.transform(X_data)\n",
    "#\n",
    "\n",
    "# Do you want to look for the best parameters for the Neural Network?\n",
    "# (slower)\n",
    "gridsearch = 0\n",
    "\n",
    "if gridsearch==1:\n",
    "    # create model\n",
    "    early_stopping = EarlyStopping(monitor='val_loss', min_delta=0.0, patience=30, mode='min')\n",
    "#    NN_model = KerasRegressor(build_fn=create_model(input_dimensions=1,neurons=20),\n",
    "#                              callbacks=[early_stopping], validation_data=(scaler.transform(X_test), y_test))\n",
    "    # define the grid search parameters\n",
    "    neurons1 = [5,20,200] # number of neurons in hidden layer 1\n",
    "    neurons2 = [5,10] # number of neurons in hidden layer 2 (if present; uncomment in create_model function)\n",
    "    neurons3 = [10] # number of neurons in hidden layer 3 (if present; uncomment in create_model function)\n",
    "    neurons4 = [10] # number of neurons in hidden layer 4 (if present; uncomment in create_model function)\n",
    "    #\n",
    "    batch_size = [len(X_train)]\n",
    "    #\n",
    "    epochs = [1000]\n",
    "    #\n",
    "    optimizer = ['adam']\n",
    "#    optimizer = ['SGD', 'RMSprop', 'Adagrad', 'Adadelta', 'Adam', 'Adamax', 'Nadam']\n",
    "#    init_mode = ['uniform', 'lecun_uniform', 'normal', 'orthogonal', 'zero', 'one', 'glorot_normal', 'glorot_uniform', 'he_normal', 'he_uniform']    \n",
    "    #\n",
    "    param_grid = dict(batch_size=batch_size, epochs=epochs,neurons1=neurons1,\n",
    "                      neurons2=neurons2,\n",
    "                      #neurons3=neurons3,neurons4=neurons4, # commented out because I am not using them\n",
    "                      optimizer=optimizer)\n",
    "    NN_model = KerasRegressor(build_fn=create_model)\n",
    "    grid = GridSearchCV(estimator=NN_model, param_grid=param_grid, n_jobs=1, cv=3, iid=False)\n",
    "    grid_result = grid.fit(X_train_scaled, y_train, callbacks=[early_stopping], validation_data=(scaler.transform(X_test), y_test))\n",
    "    history = grid_result.best_estimator_.fit(X_train_scaled, y_train,callbacks=[early_stopping], validation_data=(scaler.transform(X_test), y_test))\n",
    "    # summarize results\n",
    "    print(\"Best: %f using %s\" % (grid_result.best_score_, grid_result.best_params_))\n",
    "    means = grid_result.cv_results_['mean_test_score']\n",
    "    stds = grid_result.cv_results_['std_test_score']\n",
    "    params = grid_result.cv_results_['params']\n",
    "    for mean, stdev, param in zip(means, stds, params):\n",
    "        print(\"%f (%f) with: %r\" % (mean, stdev, param))\n",
    "else: # just use a particular Neural Network of choice\n",
    "    # Define early stopping:\n",
    "    early_stopping = EarlyStopping(monitor='val_loss', min_delta=0.0, patience=30, mode='min')\n",
    "    neurons1=200\n",
    "    neurons2=10\n",
    "    NN_model = KerasRegressor(build_fn=create_model, neurons1=neurons1, neurons2=neurons2,\n",
    "                              batch_size=len(X_train), epochs=2000, optimizer='adam',\n",
    "                              callbacks=[early_stopping],\n",
    "                              validation_data=(scaler.transform(X_test), y_test))\n",
    "    #\n",
    "    history = NN_model.fit(X_train_scaled, y_train)"
   ]
  },
  {
   "cell_type": "code",
   "execution_count": 8,
   "metadata": {},
   "outputs": [
    {
     "data": {
      "image/png": "[encoded data removed]",
      "text/plain": [
       "<Figure size 432x288 with 1 Axes>"
      ]
     },
     "metadata": {
      "needs_background": "light"
     },
     "output_type": "display_data"
    },
    {
     "data": {
      "text/plain": [
       "<matplotlib.legend.Legend at 0x7f792041ec50>"
      ]
     },
     "execution_count": 8,
     "metadata": {},
     "output_type": "execute_result"
    },
    {
     "data": {
      "image/png": "[encoded data removed]",
      "text/plain": [
       "<Figure size 432x288 with 1 Axes>"
      ]
     },
     "metadata": {
      "needs_background": "light"
     },
     "output_type": "display_data"
    }
   ],
   "source": [
    "#\n",
    "plt.figure()\n",
    "plt.plot(history.history['loss'])\n",
    "plt.plot(history.history['val_loss'])\n",
    "plt.title('Training and testing loss')\n",
    "plt.ylabel('loss')\n",
    "plt.xlabel('epoch')\n",
    "plt.legend(['training', 'testing'], loc='upper right')\n",
    "plt.show()\n",
    "\n",
    "# Plot the function\n",
    "fig = plt.figure()\n",
    "plt.plot(x_data, f(x_data), 'r:', label=u'ground truth: $f(x) = x\\,\\sin(x)$')\n",
    "\n",
    "plt.plot(x_train, y_train, 'ro', markersize=6, label=\"training points\")\n",
    "\n",
    "# Plot test points\n",
    "plt.plot(x_test, y_test, 'kx', markersize=6, label=\"testing points\")\n",
    "\n",
    "y_pred = history.model.predict(X_data_scaled)\n",
    "plt.plot(x_data, y_pred, 'b-', label=\"Neural Network prediction\")\n",
    "plt.title(r'NN with '+str(neurons1)+' neurons in the 1st hidden layer, and '+str(neurons2)+' in the 2nd')\n",
    "\n",
    "plt.xlabel('$x$')\n",
    "plt.ylabel('$f(x)$')\n",
    "plt.legend(loc='upper left')"
   ]
  },
  {
   "cell_type": "markdown",
   "metadata": {},
   "source": [
    "Note that this neural network approximation is not brilliant..."
   ]
  },
  {
   "cell_type": "markdown",
   "metadata": {},
   "source": [
    "## Exercise 3\n",
    "\n",
    "Redo the neural network regression but now for the noisy dataset."
   ]
  },
  {
   "cell_type": "code",
   "execution_count": 12,
   "metadata": {},
   "outputs": [],
   "source": [
    "# Exercise 3.\n",
    "\n",
    "# Write here.\n",
    "\n",
    "#until here."
   ]
  },
  {
   "cell_type": "markdown",
   "metadata": {},
   "source": [
    "Have fun with the Lab Assignment..."
   ]
  }
 ],
 "metadata": {
  "kernelspec": {
   "display_name": "MLenv3",
   "language": "python",
   "name": "mlenv3"
  },
  "language_info": {
   "codemirror_mode": {
    "name": "ipython",
    "version": 3
   },
   "file_extension": ".py",
   "mimetype": "text/x-python",
   "name": "python",
   "nbconvert_exporter": "python",
   "pygments_lexer": "ipython3",
   "version": "3.7.6"
  }
 },
 "nbformat": 4,
 "nbformat_minor": 4
}
